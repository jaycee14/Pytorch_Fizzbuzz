{
 "cells": [
  {
   "cell_type": "code",
   "execution_count": 1,
   "metadata": {},
   "outputs": [],
   "source": [
    "import torch\n",
    "import numpy as np\n",
    "import torch.nn as nn\n",
    "import torch.optim as optim"
   ]
  },
  {
   "cell_type": "code",
   "execution_count": 2,
   "metadata": {},
   "outputs": [],
   "source": [
    "import matplotlib.pyplot as plt"
   ]
  },
  {
   "cell_type": "code",
   "execution_count": 3,
   "metadata": {},
   "outputs": [],
   "source": [
    "%matplotlib inline"
   ]
  },
  {
   "cell_type": "code",
   "execution_count": 4,
   "metadata": {},
   "outputs": [],
   "source": [
    "NUM_DIGITS = 10\n",
    "NUM_SAMPLES = 1024"
   ]
  },
  {
   "cell_type": "markdown",
   "metadata": {},
   "source": [
    "### Create some data"
   ]
  },
  {
   "cell_type": "code",
   "execution_count": 5,
   "metadata": {},
   "outputs": [],
   "source": [
    "def binary_encode(i, num_digits):\n",
    "    \"\"\"returns values in MSB 0 bit numbering order, i.e the right most bit is the most significant\"\"\"\n",
    "    return np.array([i >> d & 1 for d in range(num_digits)])"
   ]
  },
  {
   "cell_type": "code",
   "execution_count": 6,
   "metadata": {},
   "outputs": [
    {
     "data": {
      "text/plain": [
       "array([[1, 0, 0, ..., 0, 0, 0],\n",
       "       [0, 1, 0, ..., 0, 0, 0],\n",
       "       [1, 1, 0, ..., 0, 0, 0],\n",
       "       ...,\n",
       "       [1, 0, 1, ..., 1, 1, 1],\n",
       "       [0, 1, 1, ..., 1, 1, 1],\n",
       "       [1, 1, 1, ..., 1, 1, 1]])"
      ]
     },
     "execution_count": 6,
     "metadata": {},
     "output_type": "execute_result"
    }
   ],
   "source": [
    "x = np.array([binary_encode(x, NUM_DIGITS) for x in range(1,NUM_SAMPLES)])\n",
    "x"
   ]
  },
  {
   "cell_type": "code",
   "execution_count": 7,
   "metadata": {},
   "outputs": [
    {
     "name": "stdout",
     "output_type": "stream",
     "text": [
      "0 15 1\n",
      "1 7 1\n",
      "2 3 1\n",
      "3 1 1\n",
      "4 0 0\n",
      "5 0 0\n",
      "6 0 0\n",
      "7 0 0\n",
      "8 0 0\n",
      "9 0 0\n"
     ]
    }
   ],
   "source": [
    "# understand the binary creation logic\n",
    "i=15\n",
    "for d in range(NUM_DIGITS):\n",
    "    print(d, i >> d, i >> d & 1)"
   ]
  },
  {
   "cell_type": "code",
   "execution_count": 8,
   "metadata": {},
   "outputs": [
    {
     "data": {
      "text/plain": [
       "array([1, 1, 1, 1, 0, 0, 0, 0, 0, 0])"
      ]
     },
     "execution_count": 8,
     "metadata": {},
     "output_type": "execute_result"
    }
   ],
   "source": [
    "x[14]"
   ]
  },
  {
   "cell_type": "code",
   "execution_count": 9,
   "metadata": {},
   "outputs": [],
   "source": [
    "def fizz_buzz_encode(i):\n",
    "    if   i % 15 == 0: return np.array([0, 0, 0, 1])\n",
    "    elif i % 5  == 0: return np.array([0, 0, 1, 0])\n",
    "    elif i % 3  == 0: return np.array([0, 1, 0, 0])\n",
    "    else:             return np.array([1, 0, 0, 0])"
   ]
  },
  {
   "cell_type": "code",
   "execution_count": 10,
   "metadata": {},
   "outputs": [],
   "source": [
    "def fizz_buzz_text(i):\n",
    "    if   i % 15 == 0: return 'Fizzbuzz'\n",
    "    elif i % 5  == 0: return 'buzz'\n",
    "    elif i % 3  == 0: return 'Fizz'\n",
    "    else:             return str(i)"
   ]
  },
  {
   "cell_type": "code",
   "execution_count": 11,
   "metadata": {},
   "outputs": [
    {
     "data": {
      "text/plain": [
       "['1',\n",
       " '2',\n",
       " 'Fizz',\n",
       " '4',\n",
       " 'buzz',\n",
       " 'Fizz',\n",
       " '7',\n",
       " '8',\n",
       " 'Fizz',\n",
       " 'buzz',\n",
       " '11',\n",
       " 'Fizz',\n",
       " '13',\n",
       " '14',\n",
       " 'Fizzbuzz',\n",
       " '16',\n",
       " '17',\n",
       " 'Fizz',\n",
       " '19',\n",
       " 'buzz',\n",
       " 'Fizz',\n",
       " '22',\n",
       " '23',\n",
       " 'Fizz',\n",
       " 'buzz',\n",
       " '26',\n",
       " 'Fizz',\n",
       " '28',\n",
       " '29',\n",
       " 'Fizzbuzz']"
      ]
     },
     "execution_count": 11,
     "metadata": {},
     "output_type": "execute_result"
    }
   ],
   "source": [
    "# create a text based version of the encoder to verify - also an actual answer to the fizzbuzz problem.\n",
    "[fizz_buzz_text(x) for x in range(1,31)]"
   ]
  },
  {
   "cell_type": "code",
   "execution_count": 12,
   "metadata": {},
   "outputs": [
    {
     "data": {
      "text/plain": [
       "array([[1, 0, 0, 0],\n",
       "       [1, 0, 0, 0],\n",
       "       [0, 1, 0, 0],\n",
       "       ...,\n",
       "       [1, 0, 0, 0],\n",
       "       [1, 0, 0, 0],\n",
       "       [0, 1, 0, 0]])"
      ]
     },
     "execution_count": 12,
     "metadata": {},
     "output_type": "execute_result"
    }
   ],
   "source": [
    "y = np.array([fizz_buzz_encode(x) for x in range(1,NUM_SAMPLES)])\n",
    "y"
   ]
  },
  {
   "cell_type": "code",
   "execution_count": 13,
   "metadata": {},
   "outputs": [],
   "source": [
    "# convert to tensors\n",
    "t_x = torch.tensor(x,dtype=torch.float).unsqueeze(1)\n",
    "t_y = torch.tensor(y).unsqueeze(1)"
   ]
  },
  {
   "cell_type": "code",
   "execution_count": 14,
   "metadata": {},
   "outputs": [
    {
     "name": "stdout",
     "output_type": "stream",
     "text": [
      "torch.int64\n"
     ]
    },
    {
     "data": {
      "text/plain": [
       "torch.Size([1023, 1, 4])"
      ]
     },
     "execution_count": 14,
     "metadata": {},
     "output_type": "execute_result"
    }
   ],
   "source": [
    "print(t_y.dtype)\n",
    "t_y.shape"
   ]
  },
  {
   "cell_type": "code",
   "execution_count": 15,
   "metadata": {},
   "outputs": [
    {
     "name": "stdout",
     "output_type": "stream",
     "text": [
      "torch.float32\n"
     ]
    },
    {
     "data": {
      "text/plain": [
       "torch.Size([1023, 1, 10])"
      ]
     },
     "execution_count": 15,
     "metadata": {},
     "output_type": "execute_result"
    }
   ],
   "source": [
    "print(t_x.dtype)\n",
    "t_x.shape"
   ]
  },
  {
   "cell_type": "code",
   "execution_count": 16,
   "metadata": {},
   "outputs": [],
   "source": [
    "#create a simple model using the sequential module\n",
    "model = nn.Sequential(nn.Linear(10,100),\n",
    "                     nn.ReLU(),\n",
    "                      nn.Linear(100,100),\n",
    "                     nn.ReLU(),\n",
    "                      nn.Linear(100,4)\n",
    "                     )"
   ]
  },
  {
   "cell_type": "code",
   "execution_count": 17,
   "metadata": {},
   "outputs": [
    {
     "data": {
      "text/plain": [
       "Sequential(\n",
       "  (0): Linear(in_features=10, out_features=100, bias=True)\n",
       "  (1): ReLU()\n",
       "  (2): Linear(in_features=100, out_features=100, bias=True)\n",
       "  (3): ReLU()\n",
       "  (4): Linear(in_features=100, out_features=4, bias=True)\n",
       ")"
      ]
     },
     "execution_count": 17,
     "metadata": {},
     "output_type": "execute_result"
    }
   ],
   "source": [
    "model"
   ]
  },
  {
   "cell_type": "code",
   "execution_count": 18,
   "metadata": {},
   "outputs": [
    {
     "data": {
      "text/plain": [
       "torch.Size([1023, 1, 4])"
      ]
     },
     "execution_count": 18,
     "metadata": {},
     "output_type": "execute_result"
    }
   ],
   "source": [
    "# check the model can process the data\n",
    "pred = model(t_x)\n",
    "pred.shape"
   ]
  },
  {
   "cell_type": "code",
   "execution_count": 19,
   "metadata": {},
   "outputs": [
    {
     "data": {
      "text/plain": [
       "tensor([[[ 0.0378, -0.0352,  0.0335,  0.0613]],\n",
       "\n",
       "        [[ 0.0640, -0.0051,  0.0261,  0.1120]],\n",
       "\n",
       "        [[ 0.0545, -0.0068,  0.0235,  0.0911]],\n",
       "\n",
       "        ...,\n",
       "\n",
       "        [[ 0.0195, -0.0409,  0.0184,  0.1112]],\n",
       "\n",
       "        [[ 0.0317, -0.0457, -0.0159,  0.1291]],\n",
       "\n",
       "        [[ 0.0340, -0.0526,  0.0214,  0.1193]]], grad_fn=<AddBackward0>)"
      ]
     },
     "execution_count": 19,
     "metadata": {},
     "output_type": "execute_result"
    }
   ],
   "source": [
    "pred"
   ]
  },
  {
   "cell_type": "code",
   "execution_count": 20,
   "metadata": {},
   "outputs": [
    {
     "data": {
      "text/plain": [
       "tensor(0.7045, grad_fn=<BinaryCrossEntropyWithLogitsBackward>)"
      ]
     },
     "execution_count": 20,
     "metadata": {},
     "output_type": "execute_result"
    }
   ],
   "source": [
    "#check the loss function will function with the tensors\n",
    "loss_BCELL = nn.BCEWithLogitsLoss()\n",
    "loss_BCELL(pred,t_y.float())"
   ]
  },
  {
   "cell_type": "markdown",
   "metadata": {},
   "source": [
    "### An aside on multiclass output - to check my understanding\n",
    "https://stackoverflow.com/questions/52855843/multi-label-classification-in-pytorch"
   ]
  },
  {
   "cell_type": "code",
   "execution_count": 21,
   "metadata": {},
   "outputs": [
    {
     "data": {
      "text/plain": [
       "tensor([[ 1.0608, -1.7887,  2.0753, -0.0960,  1.4551],\n",
       "        [ 1.0870, -0.7898,  0.2738, -0.5451,  0.8420]])"
      ]
     },
     "execution_count": 21,
     "metadata": {},
     "output_type": "execute_result"
    }
   ],
   "source": [
    "#create some random data\n",
    "test_batch=2\n",
    "test_classes = 5\n",
    "outputs_before_sigmoid = torch.randn(test_batch, test_classes)\n",
    "outputs_before_sigmoid"
   ]
  },
  {
   "cell_type": "code",
   "execution_count": 22,
   "metadata": {},
   "outputs": [
    {
     "data": {
      "text/plain": [
       "tensor([[0, 1, 0, 0, 0],\n",
       "        [1, 0, 0, 0, 0]])"
      ]
     },
     "execution_count": 22,
     "metadata": {},
     "output_type": "execute_result"
    }
   ],
   "source": [
    "# create one hot encoded target values\n",
    "target_classes = torch.tensor([[0, 1, 0, 0, 0],\n",
    "        [1, 0, 0, 0, 0]])\n",
    "target_classes"
   ]
  },
  {
   "cell_type": "code",
   "execution_count": 23,
   "metadata": {},
   "outputs": [
    {
     "data": {
      "text/plain": [
       "tensor([[0.7428, 0.1432, 0.8885, 0.4760, 0.8108],\n",
       "        [0.7478, 0.3122, 0.5680, 0.3670, 0.6989]])"
      ]
     },
     "execution_count": 23,
     "metadata": {},
     "output_type": "execute_result"
    }
   ],
   "source": [
    "# look at those inputs after a sigmoid\n",
    "# the inputs have been transformed to a 0-1 space\n",
    "sigmoid_outputs = torch.sigmoid(outputs_before_sigmoid)\n",
    "sigmoid_outputs"
   ]
  },
  {
   "cell_type": "code",
   "execution_count": 24,
   "metadata": {},
   "outputs": [
    {
     "data": {
      "text/plain": [
       "tensor([[0.1781, 0.0103, 0.4913, 0.0560, 0.2642],\n",
       "        [0.3884, 0.0595, 0.1722, 0.0759, 0.3040]])"
      ]
     },
     "execution_count": 24,
     "metadata": {},
     "output_type": "execute_result"
    }
   ],
   "source": [
    "# look at the inputs after a softmax\n",
    "# the sum across each row is now 1\n",
    "softmax_outputs = torch.softmax(outputs_before_sigmoid,dim=1)\n",
    "softmax_outputs"
   ]
  },
  {
   "cell_type": "code",
   "execution_count": 25,
   "metadata": {},
   "outputs": [
    {
     "data": {
      "text/plain": [
       "tensor(1.0968)"
      ]
     },
     "execution_count": 25,
     "metadata": {},
     "output_type": "execute_result"
    }
   ],
   "source": [
    "# BCE Loss needs sigmoid inputs\n",
    "loss_BCE= nn.BCELoss()\n",
    "loss_BCE(sigmoid_outputs,target_classes.float())"
   ]
  },
  {
   "cell_type": "code",
   "execution_count": 26,
   "metadata": {},
   "outputs": [
    {
     "data": {
      "text/plain": [
       "tensor(1.0968)"
      ]
     },
     "execution_count": 26,
     "metadata": {},
     "output_type": "execute_result"
    }
   ],
   "source": [
    "# BCELogitsLoss can deal with inputs before sigmoid transformation - it does this itself internally\n",
    "loss_BCELL=nn.BCEWithLogitsLoss()\n",
    "loss_BCELL(outputs_before_sigmoid,target_classes.float())"
   ]
  },
  {
   "cell_type": "code",
   "execution_count": 27,
   "metadata": {},
   "outputs": [
    {
     "data": {
      "text/plain": [
       "tensor(0.)"
      ]
     },
     "execution_count": 27,
     "metadata": {},
     "output_type": "execute_result"
    }
   ],
   "source": [
    "# the loss of a perfect answer is zero!\n",
    "loss_BCE(target_classes.float(),target_classes.float())"
   ]
  },
  {
   "cell_type": "code",
   "execution_count": 28,
   "metadata": {},
   "outputs": [
    {
     "data": {
      "text/plain": [
       "tensor([1, 2])"
      ]
     },
     "execution_count": 28,
     "metadata": {},
     "output_type": "execute_result"
    }
   ],
   "source": [
    "# for comparison a mutliclass input\n",
    "target_multi_classs = torch.tensor([1,2])\n",
    "target_multi_classs"
   ]
  },
  {
   "cell_type": "code",
   "execution_count": 29,
   "metadata": {},
   "outputs": [
    {
     "data": {
      "text/plain": [
       "tensor(1.7299)"
      ]
     },
     "execution_count": 29,
     "metadata": {},
     "output_type": "execute_result"
    }
   ],
   "source": [
    "# using the Cross entropy loss function for multiclass\n",
    "loss_CE = nn.CrossEntropyLoss()\n",
    "loss_CE(softmax_outputs, target_multi_classs)"
   ]
  },
  {
   "cell_type": "markdown",
   "metadata": {},
   "source": [
    "### aside over, create a train-validation split"
   ]
  },
  {
   "cell_type": "code",
   "execution_count": 30,
   "metadata": {},
   "outputs": [],
   "source": [
    "# shufffle the indices\n",
    "shuffled_indices = torch.randperm(t_x.shape[0])"
   ]
  },
  {
   "cell_type": "code",
   "execution_count": 31,
   "metadata": {},
   "outputs": [],
   "source": [
    "train_valid_split_percentage = 0.9"
   ]
  },
  {
   "cell_type": "code",
   "execution_count": 32,
   "metadata": {},
   "outputs": [
    {
     "data": {
      "text/plain": [
       "920"
      ]
     },
     "execution_count": 32,
     "metadata": {},
     "output_type": "execute_result"
    }
   ],
   "source": [
    "tv_split = int(train_valid_split_percentage * t_x.shape[0])\n",
    "tv_split"
   ]
  },
  {
   "cell_type": "code",
   "execution_count": 33,
   "metadata": {},
   "outputs": [],
   "source": [
    "# split using the cut off above into train and validation sets\n",
    "valid_x = t_x[shuffled_indices[tv_split:]]\n",
    "valid_y = t_y[shuffled_indices[tv_split:]]\n",
    "\n",
    "train_x = t_x[shuffled_indices[:tv_split]]\n",
    "train_y = t_y[shuffled_indices[:tv_split]]\n",
    "\n"
   ]
  },
  {
   "cell_type": "code",
   "execution_count": 34,
   "metadata": {},
   "outputs": [
    {
     "name": "stdout",
     "output_type": "stream",
     "text": [
      "920 103\n"
     ]
    }
   ],
   "source": [
    "print(train_x.shape[0], valid_x.shape[0])"
   ]
  },
  {
   "cell_type": "code",
   "execution_count": 35,
   "metadata": {},
   "outputs": [],
   "source": [
    "# using a pytorch optimiser\n",
    "optimiser = optim.SGD(model.parameters(), lr=1e-1)"
   ]
  },
  {
   "cell_type": "markdown",
   "metadata": {},
   "source": [
    "### Training Loop"
   ]
  },
  {
   "cell_type": "code",
   "execution_count": 36,
   "metadata": {},
   "outputs": [],
   "source": [
    "# function to perform training\n",
    "def training_loop(epochs, optimiser, model, loss_fn, x,y, vx, vy, batch_size):\n",
    "    model.cuda()  # move model to GPU\n",
    "    val_losses=[]\n",
    "    train_losses=[]\n",
    "    \n",
    "    for epoch in range(1, epochs+1):\n",
    "        #shuffle the inputs each epoch\n",
    "        shuffled_indexes = torch.randperm(x.shape[0])\n",
    "       \n",
    "        #run in batches (not really needed for a data set this size but general good practice)\n",
    "        for bs in range(0,x.shape[0],batch_size):\n",
    "            \n",
    "            batch_indices= shuffled_indexes[bs:bs+batch_size] # select a batch size number of shuffled indices\n",
    "            batch = x[batch_indices].cuda() # select a batch of samples and move to the GPU\n",
    "            target = y[batch_indices].cuda()\n",
    "\n",
    "            # perform the forward and back passes through the network\n",
    "            pred = model(batch)\n",
    "            loss_train = loss_fn(pred,target.float())\n",
    "\n",
    "            optimiser.zero_grad()\n",
    "            loss_train.backward()\n",
    "            optimiser.step()\n",
    "\n",
    "        if epoch == 1 or epoch % 1000 ==0:\n",
    "            loss_float = float(loss_train)\n",
    "            \n",
    "            # not necessary for a model this size but good practice to prevent gradient accumulation of\n",
    "            # validation set\n",
    "            with torch.no_grad():\n",
    "                v_pred = model(vx.cuda())\n",
    "                loss_valid = float(loss_fn(v_pred, vy.cuda().float()))\n",
    "            \n",
    "            \n",
    "            print(f'Epoch: {epoch} Training Loss: {loss_float} Valid Loss: {loss_valid}')\n",
    "\n",
    "            val_losses.append(loss_valid)\n",
    "            train_losses.append(loss_train)\n",
    "            \n",
    "    return train_losses, val_losses\n",
    "\n",
    "        "
   ]
  },
  {
   "cell_type": "code",
   "execution_count": 37,
   "metadata": {},
   "outputs": [
    {
     "name": "stdout",
     "output_type": "stream",
     "text": [
      "Epoch: 1 Training Loss: 0.6804282665252686 Valid Loss: 0.6800763607025146\n",
      "Epoch: 1000 Training Loss: 0.46165356040000916 Valid Loss: 0.5527530312538147\n",
      "Epoch: 2000 Training Loss: 0.3105538487434387 Valid Loss: 0.4712944030761719\n",
      "Epoch: 3000 Training Loss: 0.0597224123775959 Valid Loss: 0.1754443198442459\n",
      "Epoch: 4000 Training Loss: 0.02021985501050949 Valid Loss: 0.10381665080785751\n",
      "Epoch: 5000 Training Loss: 0.009041178040206432 Valid Loss: 0.09339012950658798\n",
      "Epoch: 6000 Training Loss: 0.004883074667304754 Valid Loss: 0.09653986245393753\n",
      "Epoch: 7000 Training Loss: 0.0034646173007786274 Valid Loss: 0.09137961268424988\n",
      "Epoch: 8000 Training Loss: 0.002309216419234872 Valid Loss: 0.09255336970090866\n",
      "Epoch: 9000 Training Loss: 0.0017121293349191546 Valid Loss: 0.09014353901147842\n",
      "Epoch: 10000 Training Loss: 0.0013916457537561655 Valid Loss: 0.09119658917188644\n",
      "CPU times: user 42.6 s, sys: 1.44 s, total: 44.1 s\n",
      "Wall time: 43.6 s\n"
     ]
    }
   ],
   "source": [
    "%%time\n",
    "tl, vl = training_loop(10000,optimiser,model,loss_BCELL,train_x,train_y,valid_x, valid_y,256)"
   ]
  },
  {
   "cell_type": "code",
   "execution_count": 38,
   "metadata": {
    "scrolled": true
   },
   "outputs": [
    {
     "data": {
      "text/plain": [
       "[<matplotlib.lines.Line2D at 0x7f8c5c344590>]"
      ]
     },
     "execution_count": 38,
     "metadata": {},
     "output_type": "execute_result"
    },
    {
     "data": {
      "image/png": "[encoded data removed]",
      "text/plain": [
       "<Figure size 432x288 with 1 Axes>"
      ]
     },
     "metadata": {
      "needs_background": "light"
     },
     "output_type": "display_data"
    }
   ],
   "source": [
    "plt.plot(tl)\n",
    "plt.plot(vl)"
   ]
  },
  {
   "cell_type": "markdown",
   "metadata": {},
   "source": [
    "### Review Results"
   ]
  },
  {
   "cell_type": "code",
   "execution_count": 39,
   "metadata": {},
   "outputs": [
    {
     "data": {
      "text/plain": [
       "tensor([[1., 1., 1., 1., 0., 0., 0., 0., 0., 0.]])"
      ]
     },
     "execution_count": 39,
     "metadata": {},
     "output_type": "execute_result"
    }
   ],
   "source": [
    "test_id=14\n",
    "t_x[test_id]"
   ]
  },
  {
   "cell_type": "code",
   "execution_count": 40,
   "metadata": {},
   "outputs": [
    {
     "data": {
      "text/plain": [
       "tensor([[0, 0, 0, 1]])"
      ]
     },
     "execution_count": 40,
     "metadata": {},
     "output_type": "execute_result"
    }
   ],
   "source": [
    "t_y[test_id]"
   ]
  },
  {
   "cell_type": "code",
   "execution_count": 41,
   "metadata": {},
   "outputs": [
    {
     "data": {
      "text/plain": [
       "tensor([[3.2803e-07, 4.3853e-03, 6.5699e-03, 9.9675e-01]], device='cuda:0',\n",
       "       grad_fn=<SigmoidBackward>)"
      ]
     },
     "execution_count": 41,
     "metadata": {},
     "output_type": "execute_result"
    }
   ],
   "source": [
    "torch.sigmoid(model(t_x[test_id].cuda()))"
   ]
  },
  {
   "cell_type": "code",
   "execution_count": 42,
   "metadata": {},
   "outputs": [
    {
     "data": {
      "text/plain": [
       "tensor(3, device='cuda:0')"
      ]
     },
     "execution_count": 42,
     "metadata": {},
     "output_type": "execute_result"
    }
   ],
   "source": [
    "torch.argmax(torch.sigmoid(model(t_x[test_id].cuda())))"
   ]
  },
  {
   "cell_type": "markdown",
   "metadata": {},
   "source": [
    "Works for single result - now for all results"
   ]
  },
  {
   "cell_type": "code",
   "execution_count": 43,
   "metadata": {},
   "outputs": [],
   "source": [
    "# get the raw predictions\n",
    "raw_preds = torch.sigmoid(model(t_x.cuda())).cpu()"
   ]
  },
  {
   "cell_type": "code",
   "execution_count": 44,
   "metadata": {},
   "outputs": [],
   "source": [
    "# convert to multiclass code\n",
    "preds = torch.argmax(raw_preds, axis=2).numpy()"
   ]
  },
  {
   "cell_type": "code",
   "execution_count": 45,
   "metadata": {},
   "outputs": [],
   "source": [
    "actuals = torch.argmax(t_y, axis=2).numpy()"
   ]
  },
  {
   "cell_type": "code",
   "execution_count": 46,
   "metadata": {},
   "outputs": [
    {
     "name": "stdout",
     "output_type": "stream",
     "text": [
      "1016 0.9921875\n"
     ]
    }
   ],
   "source": [
    "# check raw accuracy\n",
    "acc = np.sum(preds == actuals)\n",
    "print(acc, acc/1024)"
   ]
  },
  {
   "cell_type": "code",
   "execution_count": 47,
   "metadata": {},
   "outputs": [],
   "source": [
    "# examine the elements that were wrong\n",
    "error_indexs = np.where((preds == actuals)== False)[0]"
   ]
  },
  {
   "cell_type": "code",
   "execution_count": 48,
   "metadata": {},
   "outputs": [
    {
     "data": {
      "text/plain": [
       "array([ 67, 338, 470, 553, 685, 954, 984])"
      ]
     },
     "execution_count": 48,
     "metadata": {},
     "output_type": "execute_result"
    }
   ],
   "source": [
    "error_indexs"
   ]
  },
  {
   "cell_type": "code",
   "execution_count": 49,
   "metadata": {},
   "outputs": [
    {
     "name": "stdout",
     "output_type": "stream",
     "text": [
      "68 0 2 68\n",
      "339 1 0 Fizz\n",
      "471 1 0 Fizz\n",
      "554 0 1 554\n",
      "686 0 1 686\n",
      "955 2 0 buzz\n",
      "985 2 0 buzz\n"
     ]
    }
   ],
   "source": [
    "for e in error_indexs:\n",
    "    print(e+1, torch.argmax(t_y[e]).item(), preds[e][0], fizz_buzz_text(e+1))"
   ]
  },
  {
   "cell_type": "code",
   "execution_count": null,
   "metadata": {},
   "outputs": [],
   "source": []
  }
 ],
 "metadata": {
  "kernelspec": {
   "display_name": "Python 3",
   "language": "python",
   "name": "python3"
  },
  "language_info": {
   "codemirror_mode": {
    "name": "ipython",
    "version": 3
   },
   "file_extension": ".py",
   "mimetype": "text/x-python",
   "name": "python",
   "nbconvert_exporter": "python",
   "pygments_lexer": "ipython3",
   "version": "3.7.6"
  }
 },
 "nbformat": 4,
 "nbformat_minor": 2
}
