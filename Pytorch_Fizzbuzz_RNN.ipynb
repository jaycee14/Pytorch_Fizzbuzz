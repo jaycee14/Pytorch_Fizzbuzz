{
 "cells": [
  {
   "cell_type": "code",
   "execution_count": 1,
   "metadata": {},
   "outputs": [],
   "source": [
    "import torch\n",
    "import numpy as np\n",
    "import torch.nn as nn\n",
    "import torch.optim as optim"
   ]
  },
  {
   "cell_type": "code",
   "execution_count": 2,
   "metadata": {},
   "outputs": [],
   "source": [
    "import matplotlib.pyplot as plt"
   ]
  },
  {
   "cell_type": "code",
   "execution_count": 3,
   "metadata": {},
   "outputs": [],
   "source": [
    "%matplotlib inline"
   ]
  },
  {
   "cell_type": "code",
   "execution_count": 4,
   "metadata": {},
   "outputs": [],
   "source": [
    "NUM_DIGITS = 10\n",
    "NUM_SAMPLES = 1024"
   ]
  },
  {
   "cell_type": "markdown",
   "metadata": {},
   "source": [
    "### Create some data"
   ]
  },
  {
   "cell_type": "code",
   "execution_count": 5,
   "metadata": {},
   "outputs": [],
   "source": [
    "def binary_encode(i, num_digits):\n",
    "    \"\"\"returns values in MSB 0 bit numbering order, i.e the right most bit is the most significant\"\"\"\n",
    "    return np.array([i >> d & 1 for d in range(num_digits)])"
   ]
  },
  {
   "cell_type": "code",
   "execution_count": 6,
   "metadata": {},
   "outputs": [
    {
     "data": {
      "text/plain": [
       "array([[1, 0, 0, ..., 0, 0, 0],\n",
       "       [0, 1, 0, ..., 0, 0, 0],\n",
       "       [1, 1, 0, ..., 0, 0, 0],\n",
       "       ...,\n",
       "       [1, 0, 1, ..., 1, 1, 1],\n",
       "       [0, 1, 1, ..., 1, 1, 1],\n",
       "       [1, 1, 1, ..., 1, 1, 1]])"
      ]
     },
     "execution_count": 6,
     "metadata": {},
     "output_type": "execute_result"
    }
   ],
   "source": [
    "x = np.array([binary_encode(x, NUM_DIGITS) for x in range(1,NUM_SAMPLES)])\n",
    "x"
   ]
  },
  {
   "cell_type": "code",
   "execution_count": 7,
   "metadata": {},
   "outputs": [
    {
     "name": "stdout",
     "output_type": "stream",
     "text": [
      "0 15 1\n",
      "1 7 1\n",
      "2 3 1\n",
      "3 1 1\n",
      "4 0 0\n",
      "5 0 0\n",
      "6 0 0\n",
      "7 0 0\n",
      "8 0 0\n",
      "9 0 0\n"
     ]
    }
   ],
   "source": [
    "# understand the binary creation logic\n",
    "i=15\n",
    "for d in range(NUM_DIGITS):\n",
    "    print(d, i >> d, i >> d & 1)"
   ]
  },
  {
   "cell_type": "code",
   "execution_count": 8,
   "metadata": {},
   "outputs": [
    {
     "data": {
      "text/plain": [
       "array([1, 1, 1, 1, 0, 0, 0, 0, 0, 0])"
      ]
     },
     "execution_count": 8,
     "metadata": {},
     "output_type": "execute_result"
    }
   ],
   "source": [
    "x[14]"
   ]
  },
  {
   "cell_type": "code",
   "execution_count": 9,
   "metadata": {},
   "outputs": [],
   "source": [
    "def fizz_buzz_encode(i):\n",
    "    if   i % 15 == 0: return np.array([0, 0, 0, 1])\n",
    "    elif i % 5  == 0: return np.array([0, 0, 1, 0])\n",
    "    elif i % 3  == 0: return np.array([0, 1, 0, 0])\n",
    "    else:             return np.array([1, 0, 0, 0])"
   ]
  },
  {
   "cell_type": "code",
   "execution_count": 10,
   "metadata": {},
   "outputs": [],
   "source": [
    "def fizz_buzz_text(i):\n",
    "    if   i % 15 == 0: return 'Fizzbuzz'\n",
    "    elif i % 5  == 0: return 'buzz'\n",
    "    elif i % 3  == 0: return 'Fizz'\n",
    "    else:             return str(i)"
   ]
  },
  {
   "cell_type": "code",
   "execution_count": 11,
   "metadata": {},
   "outputs": [
    {
     "data": {
      "text/plain": [
       "['1',\n",
       " '2',\n",
       " 'Fizz',\n",
       " '4',\n",
       " 'buzz',\n",
       " 'Fizz',\n",
       " '7',\n",
       " '8',\n",
       " 'Fizz',\n",
       " 'buzz',\n",
       " '11',\n",
       " 'Fizz',\n",
       " '13',\n",
       " '14',\n",
       " 'Fizzbuzz',\n",
       " '16',\n",
       " '17',\n",
       " 'Fizz',\n",
       " '19',\n",
       " 'buzz',\n",
       " 'Fizz',\n",
       " '22',\n",
       " '23',\n",
       " 'Fizz',\n",
       " 'buzz',\n",
       " '26',\n",
       " 'Fizz',\n",
       " '28',\n",
       " '29',\n",
       " 'Fizzbuzz']"
      ]
     },
     "execution_count": 11,
     "metadata": {},
     "output_type": "execute_result"
    }
   ],
   "source": [
    "# create a text based version of the encoder to verify - also an actual answer to the fizzbuzz problem.\n",
    "[fizz_buzz_text(x) for x in range(1,31)]"
   ]
  },
  {
   "cell_type": "code",
   "execution_count": 12,
   "metadata": {},
   "outputs": [
    {
     "data": {
      "text/plain": [
       "array([[1, 0, 0, 0],\n",
       "       [1, 0, 0, 0],\n",
       "       [0, 1, 0, 0],\n",
       "       ...,\n",
       "       [1, 0, 0, 0],\n",
       "       [1, 0, 0, 0],\n",
       "       [0, 1, 0, 0]])"
      ]
     },
     "execution_count": 12,
     "metadata": {},
     "output_type": "execute_result"
    }
   ],
   "source": [
    "y = np.array([fizz_buzz_encode(x) for x in range(1,NUM_SAMPLES)])\n",
    "y"
   ]
  },
  {
   "cell_type": "code",
   "execution_count": 13,
   "metadata": {},
   "outputs": [],
   "source": [
    "# convert to tensors\n",
    "t_x = torch.tensor(x,dtype=torch.float).unsqueeze(1)\n",
    "t_y = torch.tensor(y).unsqueeze(1)"
   ]
  },
  {
   "cell_type": "code",
   "execution_count": 14,
   "metadata": {},
   "outputs": [
    {
     "name": "stdout",
     "output_type": "stream",
     "text": [
      "torch.int64\n"
     ]
    },
    {
     "data": {
      "text/plain": [
       "torch.Size([1023, 1, 4])"
      ]
     },
     "execution_count": 14,
     "metadata": {},
     "output_type": "execute_result"
    }
   ],
   "source": [
    "print(t_y.dtype)\n",
    "t_y.shape"
   ]
  },
  {
   "cell_type": "code",
   "execution_count": 15,
   "metadata": {},
   "outputs": [
    {
     "name": "stdout",
     "output_type": "stream",
     "text": [
      "torch.float32\n"
     ]
    },
    {
     "data": {
      "text/plain": [
       "torch.Size([1023, 1, 10])"
      ]
     },
     "execution_count": 15,
     "metadata": {},
     "output_type": "execute_result"
    }
   ],
   "source": [
    "print(t_x.dtype)\n",
    "t_x.shape"
   ]
  },
  {
   "cell_type": "code",
   "execution_count": 105,
   "metadata": {},
   "outputs": [],
   "source": [
    "# new model with RNN layer\n",
    "class MyModel(nn.Module):\n",
    "    \n",
    "    def __init__(self):\n",
    "        super().__init__()\n",
    "        \n",
    "        self.linear2 = nn.Linear(10,32)\n",
    "        self.rnn = nn.LSTM(32,32,2,batch_first=True)\n",
    "        self.linear3 = nn.Linear(32,4)\n",
    "        self.do = nn.Dropout(0.1)\n",
    "    \n",
    "    def forward(self,input):\n",
    "   \n",
    "        x = torch.relu(self.linear2(input))\n",
    "        x = self.do(x)\n",
    "        x, h = self.rnn(x)\n",
    "        return self.linear3(x)\n",
    "    "
   ]
  },
  {
   "cell_type": "code",
   "execution_count": 17,
   "metadata": {},
   "outputs": [],
   "source": [
    "# recreation of original for comparison purposes\n",
    "class MyOriginalModel(nn.Module):\n",
    "    \n",
    "    def __init__(self):\n",
    "        super().__init__()\n",
    "        \n",
    "        self.linear1 = nn.Linear(10,100)    \n",
    "        self.linear2 = nn.Linear(100,100)\n",
    "        self.linear3 = nn.Linear(100,4)\n",
    "    \n",
    "    def forward(self,input):\n",
    "   \n",
    "        x = torch.relu(self.linear1(input))\n",
    "        x = torch.relu(self.linear2(x))\n",
    "    \n",
    "        return self.linear3(x)\n",
    "    "
   ]
  },
  {
   "cell_type": "code",
   "execution_count": 247,
   "metadata": {},
   "outputs": [
    {
     "data": {
      "text/plain": [
       "MyModel(\n",
       "  (linear2): Linear(in_features=10, out_features=32, bias=True)\n",
       "  (rnn): LSTM(32, 32, num_layers=2, batch_first=True)\n",
       "  (linear3): Linear(in_features=32, out_features=4, bias=True)\n",
       "  (do): Dropout(p=0.1, inplace=False)\n",
       ")"
      ]
     },
     "execution_count": 247,
     "metadata": {},
     "output_type": "execute_result"
    }
   ],
   "source": [
    "model =MyModel()\n",
    "model"
   ]
  },
  {
   "cell_type": "code",
   "execution_count": 248,
   "metadata": {},
   "outputs": [],
   "source": [
    "# using a pytorch optimiser\n",
    "optimiser = optim.Adam(model.parameters(), lr=1e-3)"
   ]
  },
  {
   "cell_type": "code",
   "execution_count": 249,
   "metadata": {},
   "outputs": [
    {
     "data": {
      "text/plain": [
       "torch.Size([1023, 1, 4])"
      ]
     },
     "execution_count": 249,
     "metadata": {},
     "output_type": "execute_result"
    }
   ],
   "source": [
    "# check the model can process the data\n",
    "pred = model(t_x)\n",
    "pred.shape"
   ]
  },
  {
   "cell_type": "code",
   "execution_count": 250,
   "metadata": {},
   "outputs": [
    {
     "data": {
      "text/plain": [
       "tensor(0.6889, grad_fn=<BinaryCrossEntropyWithLogitsBackward>)"
      ]
     },
     "execution_count": 250,
     "metadata": {},
     "output_type": "execute_result"
    }
   ],
   "source": [
    "#check the loss function will function with the tensors\n",
    "loss_BCELL = nn.BCEWithLogitsLoss()\n",
    "loss_BCELL(pred,t_y.float())"
   ]
  },
  {
   "cell_type": "code",
   "execution_count": 251,
   "metadata": {},
   "outputs": [],
   "source": [
    "# shufffle the indices\n",
    "shuffled_indices = torch.randperm(t_x.shape[0])"
   ]
  },
  {
   "cell_type": "code",
   "execution_count": 252,
   "metadata": {},
   "outputs": [],
   "source": [
    "# split using the cut off above into train, validation and test sets\n",
    "train_x, valid_x, test_x = t_x[shuffled_indices].split_with_sizes([920,53,50])\n",
    "train_y, valid_y, test_y = t_y[shuffled_indices].split_with_sizes([920,53,50])"
   ]
  },
  {
   "cell_type": "code",
   "execution_count": 253,
   "metadata": {},
   "outputs": [
    {
     "name": "stdout",
     "output_type": "stream",
     "text": [
      "920 53 50\n"
     ]
    }
   ],
   "source": [
    "print(train_x.shape[0], valid_x.shape[0], test_x.shape[0])"
   ]
  },
  {
   "cell_type": "markdown",
   "metadata": {},
   "source": [
    "### Training Loop"
   ]
  },
  {
   "cell_type": "code",
   "execution_count": 254,
   "metadata": {},
   "outputs": [],
   "source": [
    "# function to perform training\n",
    "def training_loop(epochs, optimiser, model, loss_fn, x,y, vx, vy, batch_size):\n",
    "    model.cuda()  # move model to GPU\n",
    "    val_losses=[]\n",
    "    train_losses=[]\n",
    "    \n",
    "    for epoch in range(1, epochs+1):\n",
    "        #shuffle the inputs each epoch\n",
    "        shuffled_indexes = torch.randperm(x.shape[0])\n",
    "       \n",
    "        #run in batches (not really needed for a data set this size but general good practice)\n",
    "        for bs in range(0,x.shape[0],batch_size):\n",
    "            \n",
    "            batch_indices= shuffled_indexes[bs:bs+batch_size] # select a batch size number of shuffled indices\n",
    "            batch = x[batch_indices].cuda() # select a batch of samples and move to the GPU\n",
    "            target = y[batch_indices].cuda()\n",
    "\n",
    "            # perform the forward and back passes through the network\n",
    "            pred = model(batch)\n",
    "            loss_train = loss_fn(pred,target.float())\n",
    "            \n",
    "\n",
    "            optimiser.zero_grad()\n",
    "            loss_train.backward()\n",
    "            optimiser.step()\n",
    "\n",
    "        if epoch == 1 or epoch % 1000 ==0:\n",
    "            loss_float = float(loss_train)\n",
    "            \n",
    "            # not necessary for a model this size but good practice to prevent gradient accumulation of\n",
    "            # validation set\n",
    "            with torch.no_grad():\n",
    "                v_pred = model(vx.cuda())\n",
    "                loss_valid = float(loss_fn(v_pred, vy.cuda().float()))\n",
    "                \n",
    "                v_res = torch.argmax(torch.softmax(v_pred, dim=2),axis=2).cpu().numpy()\n",
    "                v_actual = torch.argmax(vy,axis=2).numpy()\n",
    "                \n",
    "                acc = (np.sum(v_res == v_actual))/len(v_actual)\n",
    "              \n",
    "            \n",
    "            print(f'Epoch: {epoch} Training Loss: {loss_float} Valid Loss: {loss_valid} Valid Acc:{acc}')\n",
    "\n",
    "            val_losses.append(loss_valid)\n",
    "            train_losses.append(loss_train)\n",
    "            \n",
    "    return train_losses, val_losses\n",
    "\n",
    "        "
   ]
  },
  {
   "cell_type": "code",
   "execution_count": 255,
   "metadata": {},
   "outputs": [
    {
     "name": "stdout",
     "output_type": "stream",
     "text": [
      "Epoch: 1 Training Loss: 0.68500155210495 Valid Loss: 0.682931125164032 Valid Acc:0.5471698113207547\n",
      "Epoch: 1000 Training Loss: 0.24494090676307678 Valid Loss: 0.2851600646972656 Valid Acc:0.6792452830188679\n",
      "Epoch: 2000 Training Loss: 0.03305377811193466 Valid Loss: 0.1151161640882492 Valid Acc:0.9433962264150944\n",
      "Epoch: 3000 Training Loss: 0.02504267916083336 Valid Loss: 0.047133833169937134 Valid Acc:0.9433962264150944\n",
      "Epoch: 4000 Training Loss: 0.025609895586967468 Valid Loss: 0.02006249502301216 Valid Acc:1.0\n",
      "Epoch: 5000 Training Loss: 0.007079674396663904 Valid Loss: 0.07621054351329803 Valid Acc:0.9433962264150944\n",
      "CPU times: user 50.5 s, sys: 747 ms, total: 51.2 s\n",
      "Wall time: 51.1 s\n"
     ]
    }
   ],
   "source": [
    "%%time\n",
    "tl, vl = training_loop(5000,optimiser,model,loss_BCELL,train_x,train_y,valid_x, valid_y,256)"
   ]
  },
  {
   "cell_type": "code",
   "execution_count": 256,
   "metadata": {
    "scrolled": true
   },
   "outputs": [
    {
     "data": {
      "text/plain": [
       "[<matplotlib.lines.Line2D at 0x7f65e57e0950>]"
      ]
     },
     "execution_count": 256,
     "metadata": {},
     "output_type": "execute_result"
    },
    {
     "data": {
      "image/png": "[encoded data removed]",
      "text/plain": [
       "<Figure size 432x288 with 1 Axes>"
      ]
     },
     "metadata": {
      "needs_background": "light"
     },
     "output_type": "display_data"
    }
   ],
   "source": [
    "plt.plot(tl)\n",
    "plt.plot(vl)"
   ]
  },
  {
   "cell_type": "markdown",
   "metadata": {},
   "source": [
    "### Review Results"
   ]
  },
  {
   "cell_type": "code",
   "execution_count": 257,
   "metadata": {},
   "outputs": [
    {
     "data": {
      "text/plain": [
       "MyModel(\n",
       "  (linear2): Linear(in_features=10, out_features=32, bias=True)\n",
       "  (rnn): LSTM(32, 32, num_layers=2, batch_first=True)\n",
       "  (linear3): Linear(in_features=32, out_features=4, bias=True)\n",
       "  (do): Dropout(p=0.1, inplace=False)\n",
       ")"
      ]
     },
     "execution_count": 257,
     "metadata": {},
     "output_type": "execute_result"
    }
   ],
   "source": [
    "model.eval()"
   ]
  },
  {
   "cell_type": "code",
   "execution_count": 258,
   "metadata": {},
   "outputs": [],
   "source": [
    "# get the raw predictions\n",
    "raw_preds = torch.softmax(model(test_x.cuda()),2).cpu()"
   ]
  },
  {
   "cell_type": "code",
   "execution_count": 259,
   "metadata": {},
   "outputs": [],
   "source": [
    "# convert to multiclass code\n",
    "preds = torch.argmax(raw_preds, axis=2).numpy()"
   ]
  },
  {
   "cell_type": "code",
   "execution_count": 260,
   "metadata": {},
   "outputs": [],
   "source": [
    "actuals = torch.argmax(test_y, axis=2).numpy()"
   ]
  },
  {
   "cell_type": "code",
   "execution_count": 261,
   "metadata": {},
   "outputs": [
    {
     "name": "stdout",
     "output_type": "stream",
     "text": [
      "50 1.0\n"
     ]
    }
   ],
   "source": [
    "# check raw accuracy\n",
    "acc = np.sum(preds == actuals)\n",
    "print(acc, acc/50)"
   ]
  },
  {
   "cell_type": "code",
   "execution_count": 262,
   "metadata": {},
   "outputs": [],
   "source": [
    "# examine the elements that were wrong\n",
    "error_indexs = np.where((preds == actuals)== False)[0]"
   ]
  },
  {
   "cell_type": "code",
   "execution_count": 263,
   "metadata": {},
   "outputs": [
    {
     "data": {
      "text/plain": [
       "array([], dtype=int64)"
      ]
     },
     "execution_count": 263,
     "metadata": {},
     "output_type": "execute_result"
    }
   ],
   "source": [
    "error_indexs"
   ]
  },
  {
   "cell_type": "code",
   "execution_count": 264,
   "metadata": {},
   "outputs": [
    {
     "name": "stdout",
     "output_type": "stream",
     "text": [
      "number\t actual\t pred\t actual text\n"
     ]
    }
   ],
   "source": [
    "print('number\\t actual\\t pred\\t actual text')\n",
    "back_convert = torch.tensor([1.,2.,4.,8.,16.,32.,64.,128.,256.,512.])\n",
    "for e in error_indexs:\n",
    "    int_val = int((back_convert @ test_x[e].T).item())\n",
    "    print(int_val,'\\t', actuals[e][0],'\\t', preds[e][0],'\\t', fizz_buzz_text(int_val))"
   ]
  },
  {
   "cell_type": "code",
   "execution_count": 265,
   "metadata": {},
   "outputs": [],
   "source": [
    "all_raw_preds = torch.softmax(model(t_x.cuda()),2).cpu()\n",
    "all_preds = torch.argmax(all_raw_preds, axis=2).numpy()"
   ]
  },
  {
   "cell_type": "code",
   "execution_count": 266,
   "metadata": {},
   "outputs": [],
   "source": [
    "all_actuals = torch.argmax(t_y, axis=2).numpy()"
   ]
  },
  {
   "cell_type": "code",
   "execution_count": 267,
   "metadata": {},
   "outputs": [
    {
     "name": "stdout",
     "output_type": "stream",
     "text": [
      "1022 0.998046875\n"
     ]
    }
   ],
   "source": [
    "# check raw accuracy\n",
    "all_acc = np.sum(all_preds == all_actuals)\n",
    "print(all_acc, all_acc/1024)"
   ]
  },
  {
   "cell_type": "code",
   "execution_count": 268,
   "metadata": {},
   "outputs": [
    {
     "data": {
      "text/plain": [
       "array([798])"
      ]
     },
     "execution_count": 268,
     "metadata": {},
     "output_type": "execute_result"
    }
   ],
   "source": [
    "# examine the elements that were wrong\n",
    "all_error_indexs = np.where((all_preds == all_actuals)== False)[0]\n",
    "all_error_indexs"
   ]
  },
  {
   "cell_type": "code",
   "execution_count": 269,
   "metadata": {},
   "outputs": [
    {
     "name": "stdout",
     "output_type": "stream",
     "text": [
      "number\t actual\t pred\t actual text\n",
      "799 \t 0 \t 1 \t 799\n"
     ]
    }
   ],
   "source": [
    "print('number\\t actual\\t pred\\t actual text')\n",
    "\n",
    "# for conversion back to decimal\n",
    "back_convert = torch.tensor([1.,2.,4.,8.,16.,32.,64.,128.,256.,512.])\n",
    "\n",
    "for e in all_error_indexs:\n",
    "    int_val = int((back_convert @ t_x[e].T).item()) # convert to decimal\n",
    "    print(int_val,'\\t', all_actuals[e][0],'\\t', all_preds[e][0],'\\t', fizz_buzz_text(int_val))"
   ]
  },
  {
   "cell_type": "code",
   "execution_count": 273,
   "metadata": {},
   "outputs": [
    {
     "data": {
      "text/plain": [
       "tensor([[0.1881, 0.4564, 0.1777, 0.1777]], grad_fn=<SoftmaxBackward>)"
      ]
     },
     "execution_count": 273,
     "metadata": {},
     "output_type": "execute_result"
    }
   ],
   "source": [
    "torch.softmax(all_raw_preds[798],dim=1)"
   ]
  },
  {
   "cell_type": "code",
   "execution_count": null,
   "metadata": {},
   "outputs": [],
   "source": []
  }
 ],
 "metadata": {
  "kernelspec": {
   "display_name": "Python 3",
   "language": "python",
   "name": "python3"
  },
  "language_info": {
   "codemirror_mode": {
    "name": "ipython",
    "version": 3
   },
   "file_extension": ".py",
   "mimetype": "text/x-python",
   "name": "python",
   "nbconvert_exporter": "python",
   "pygments_lexer": "ipython3",
   "version": "3.7.7"
  }
 },
 "nbformat": 4,
 "nbformat_minor": 4
}
